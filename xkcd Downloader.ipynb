{
 "cells": [
  {
   "cell_type": "code",
   "execution_count": null,
   "metadata": {},
   "outputs": [],
   "source": [
    "import requests\n",
    "import shutil\n",
    "import os\n",
    "from pathvalidate import sanitize_filename\n",
    "\n",
    "end = False\n",
    "i = 1\n",
    "cwd = os.getcwd()\n",
    "    \n",
    "\n",
    "#downloads image from xkcd website using json api. Uses the name, year, and month from the json metadata to organize.\n",
    "\n",
    "def download(metadata):\n",
    "\n",
    "    metadata = response.json()\n",
    "\n",
    "    if(os.path.isfile(cwd + '/xkcd/' + metadata['year'] + '/' + metadata['month'] + '/' + sanitize_filename(metadata['safe_title']) + '.png') == False):\n",
    "\n",
    "        comic = requests.get(metadata['img'], stream = True)\n",
    "\n",
    "        if comic.status_code == 200:\n",
    "            if(os.path.isdir(cwd + '/xkcd/' + metadata['year']) == False):\n",
    "                os.mkdir(cwd + '/xkcd/' + metadata['year'])\n",
    "            if(os.path.isdir(cwd + '/xkcd/' + metadata['year'] + '/' + metadata['month'] + '/') == False):\n",
    "                os.mkdir(cwd + '/xkcd/' + metadata['year']+ '/' + metadata['month'] + '/')\n",
    "            with open(cwd + '/xkcd/' + metadata['year'] + '/' + metadata['month'] + '/' + sanitize_filename(metadata['safe_title']) + '.png','wb') as f:\n",
    "                shutil.copyfileobj(comic.raw, f)\n",
    "            print(str(i) + ': Image sucessfully Downloaded: ',metadata['safe_title'])\n",
    "        else:\n",
    "            print('Image Couldn\\'t be retrieved')\n",
    "    else:\n",
    "        print(str(i) + ': Image Already Downloaded: ',metadata['safe_title'])\n",
    "\n",
    "#loops until it reaches a comic id that doesn't exist. Skips 404 as it that id is used by the pages 404 error page.\n",
    "\n",
    "while end == False:       \n",
    "\n",
    "    if i != 404:\n",
    "        \n",
    "        url = \"https://xkcd.com/{0}/info.0.json\".format(i)\n",
    "\n",
    "        if(os.path.isdir(cwd + '/xkcd/') == False):\n",
    "            os.mkdir(cwd + '/xkcd/')\n",
    "\n",
    "        try:\n",
    "            response = requests.get(url)\n",
    "            response.raise_for_status()\n",
    "            download(response.json())\n",
    "        except requests.exceptions.HTTPError as errcode:\n",
    "            print(errcode)\n",
    "            end = True\n",
    "    i = i + 1\n",
    "\n"
   ]
  },
  {
   "cell_type": "code",
   "execution_count": 12,
   "metadata": {},
   "outputs": [],
   "source": [
    "#Converts File to .cbr archive for easier viewing\n",
    "\n",
    "if(os.path.isdir(cwd + '/cbr/') == False):\n",
    "    os.mkdir(cwd + '/cbr/')\n",
    "\n",
    "shutil.make_archive('temp', 'zip','xkcd')\n",
    "shutil.copyfile('temp.zip', cwd+'/cbr/xkcd.cbr')\n",
    "os.remove('temp.zip')"
   ]
  }
 ],
 "metadata": {
  "kernelspec": {
   "display_name": "Python 3",
   "language": "python",
   "name": "python3"
  },
  "language_info": {
   "codemirror_mode": {
    "name": "ipython",
    "version": 3
   },
   "file_extension": ".py",
   "mimetype": "text/x-python",
   "name": "python",
   "nbconvert_exporter": "python",
   "pygments_lexer": "ipython3",
   "version": "3.9.6"
  }
 },
 "nbformat": 4,
 "nbformat_minor": 2
}
